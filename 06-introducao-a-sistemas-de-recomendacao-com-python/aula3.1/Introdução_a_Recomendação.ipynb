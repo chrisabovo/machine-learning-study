{
  "nbformat": 4,
  "nbformat_minor": 0,
  "metadata": {
    "colab": {
      "name": "Introdução a Recomendação",
      "version": "0.3.2",
      "provenance": [],
      "collapsed_sections": []
    },
    "kernelspec": {
      "name": "python3",
      "display_name": "Python 3"
    }
  },
  "cells": [
    {
      "metadata": {
        "id": "NhuojMFKZa2M",
        "colab_type": "code",
        "colab": {
          "base_uri": "https://localhost:8080/",
          "height": 235
        },
        "outputId": "1d60a042-ca7c-4166-b99d-0e35955b2d39"
      },
      "cell_type": "code",
      "source": [
        "import pandas as pd\n",
        "\n",
        "filmes = pd.read_csv(\"movies.csv\")\n",
        "filmes.columns = [\"filmeId\", \"titulo\", \"generos\"]\n",
        "filmes = filmes.set_index(\"filmeId\")\n",
        "filmes.head()"
      ],
      "execution_count": 1,
      "outputs": [
        {
          "output_type": "execute_result",
          "data": {
            "text/html": [
              "<div>\n",
              "<style scoped>\n",
              "    .dataframe tbody tr th:only-of-type {\n",
              "        vertical-align: middle;\n",
              "    }\n",
              "\n",
              "    .dataframe tbody tr th {\n",
              "        vertical-align: top;\n",
              "    }\n",
              "\n",
              "    .dataframe thead th {\n",
              "        text-align: right;\n",
              "    }\n",
              "</style>\n",
              "<table border=\"1\" class=\"dataframe\">\n",
              "  <thead>\n",
              "    <tr style=\"text-align: right;\">\n",
              "      <th></th>\n",
              "      <th>titulo</th>\n",
              "      <th>generos</th>\n",
              "    </tr>\n",
              "    <tr>\n",
              "      <th>filmeId</th>\n",
              "      <th></th>\n",
              "      <th></th>\n",
              "    </tr>\n",
              "  </thead>\n",
              "  <tbody>\n",
              "    <tr>\n",
              "      <th>1</th>\n",
              "      <td>Toy Story (1995)</td>\n",
              "      <td>Adventure|Animation|Children|Comedy|Fantasy</td>\n",
              "    </tr>\n",
              "    <tr>\n",
              "      <th>2</th>\n",
              "      <td>Jumanji (1995)</td>\n",
              "      <td>Adventure|Children|Fantasy</td>\n",
              "    </tr>\n",
              "    <tr>\n",
              "      <th>3</th>\n",
              "      <td>Grumpier Old Men (1995)</td>\n",
              "      <td>Comedy|Romance</td>\n",
              "    </tr>\n",
              "    <tr>\n",
              "      <th>4</th>\n",
              "      <td>Waiting to Exhale (1995)</td>\n",
              "      <td>Comedy|Drama|Romance</td>\n",
              "    </tr>\n",
              "    <tr>\n",
              "      <th>5</th>\n",
              "      <td>Father of the Bride Part II (1995)</td>\n",
              "      <td>Comedy</td>\n",
              "    </tr>\n",
              "  </tbody>\n",
              "</table>\n",
              "</div>"
            ],
            "text/plain": [
              "                                     titulo  \\\n",
              "filmeId                                       \n",
              "1                          Toy Story (1995)   \n",
              "2                            Jumanji (1995)   \n",
              "3                   Grumpier Old Men (1995)   \n",
              "4                  Waiting to Exhale (1995)   \n",
              "5        Father of the Bride Part II (1995)   \n",
              "\n",
              "                                             generos  \n",
              "filmeId                                               \n",
              "1        Adventure|Animation|Children|Comedy|Fantasy  \n",
              "2                         Adventure|Children|Fantasy  \n",
              "3                                     Comedy|Romance  \n",
              "4                               Comedy|Drama|Romance  \n",
              "5                                             Comedy  "
            ]
          },
          "metadata": {
            "tags": []
          },
          "execution_count": 1
        }
      ]
    },
    {
      "metadata": {
        "id": "fffNtxjMZte0",
        "colab_type": "code",
        "colab": {
          "base_uri": "https://localhost:8080/",
          "height": 204
        },
        "outputId": "21eb95d8-5f14-49bd-f8ef-edc4708d4459"
      },
      "cell_type": "code",
      "source": [
        "notas = pd.read_csv(\"ratings.csv\")\n",
        "notas.columns = [\"usuarioId\", \"filmeId\", \"nota\", \"momento\"]\n",
        "notas.head()"
      ],
      "execution_count": 2,
      "outputs": [
        {
          "output_type": "execute_result",
          "data": {
            "text/html": [
              "<div>\n",
              "<style scoped>\n",
              "    .dataframe tbody tr th:only-of-type {\n",
              "        vertical-align: middle;\n",
              "    }\n",
              "\n",
              "    .dataframe tbody tr th {\n",
              "        vertical-align: top;\n",
              "    }\n",
              "\n",
              "    .dataframe thead th {\n",
              "        text-align: right;\n",
              "    }\n",
              "</style>\n",
              "<table border=\"1\" class=\"dataframe\">\n",
              "  <thead>\n",
              "    <tr style=\"text-align: right;\">\n",
              "      <th></th>\n",
              "      <th>usuarioId</th>\n",
              "      <th>filmeId</th>\n",
              "      <th>nota</th>\n",
              "      <th>momento</th>\n",
              "    </tr>\n",
              "  </thead>\n",
              "  <tbody>\n",
              "    <tr>\n",
              "      <th>0</th>\n",
              "      <td>1</td>\n",
              "      <td>307</td>\n",
              "      <td>3.5</td>\n",
              "      <td>1256677221</td>\n",
              "    </tr>\n",
              "    <tr>\n",
              "      <th>1</th>\n",
              "      <td>1</td>\n",
              "      <td>481</td>\n",
              "      <td>3.5</td>\n",
              "      <td>1256677456</td>\n",
              "    </tr>\n",
              "    <tr>\n",
              "      <th>2</th>\n",
              "      <td>1</td>\n",
              "      <td>1091</td>\n",
              "      <td>1.5</td>\n",
              "      <td>1256677471</td>\n",
              "    </tr>\n",
              "    <tr>\n",
              "      <th>3</th>\n",
              "      <td>1</td>\n",
              "      <td>1257</td>\n",
              "      <td>4.5</td>\n",
              "      <td>1256677460</td>\n",
              "    </tr>\n",
              "    <tr>\n",
              "      <th>4</th>\n",
              "      <td>1</td>\n",
              "      <td>1449</td>\n",
              "      <td>4.5</td>\n",
              "      <td>1256677264</td>\n",
              "    </tr>\n",
              "  </tbody>\n",
              "</table>\n",
              "</div>"
            ],
            "text/plain": [
              "   usuarioId  filmeId  nota     momento\n",
              "0          1      307   3.5  1256677221\n",
              "1          1      481   3.5  1256677456\n",
              "2          1     1091   1.5  1256677471\n",
              "3          1     1257   4.5  1256677460\n",
              "4          1     1449   4.5  1256677264"
            ]
          },
          "metadata": {
            "tags": []
          },
          "execution_count": 2
        }
      ]
    },
    {
      "metadata": {
        "id": "C1enzh4uaGhj",
        "colab_type": "code",
        "colab": {
          "base_uri": "https://localhost:8080/",
          "height": 297
        },
        "outputId": "818fc40a-abd6-443c-bf08-a722ef2f2e9d"
      },
      "cell_type": "code",
      "source": [
        "notas.describe()"
      ],
      "execution_count": 3,
      "outputs": [
        {
          "output_type": "execute_result",
          "data": {
            "text/html": [
              "<div>\n",
              "<style scoped>\n",
              "    .dataframe tbody tr th:only-of-type {\n",
              "        vertical-align: middle;\n",
              "    }\n",
              "\n",
              "    .dataframe tbody tr th {\n",
              "        vertical-align: top;\n",
              "    }\n",
              "\n",
              "    .dataframe thead th {\n",
              "        text-align: right;\n",
              "    }\n",
              "</style>\n",
              "<table border=\"1\" class=\"dataframe\">\n",
              "  <thead>\n",
              "    <tr style=\"text-align: right;\">\n",
              "      <th></th>\n",
              "      <th>usuarioId</th>\n",
              "      <th>filmeId</th>\n",
              "      <th>nota</th>\n",
              "      <th>momento</th>\n",
              "    </tr>\n",
              "  </thead>\n",
              "  <tbody>\n",
              "    <tr>\n",
              "      <th>count</th>\n",
              "      <td>1.176722e+07</td>\n",
              "      <td>1.176722e+07</td>\n",
              "      <td>1.176722e+07</td>\n",
              "      <td>1.176722e+07</td>\n",
              "    </tr>\n",
              "    <tr>\n",
              "      <th>mean</th>\n",
              "      <td>6.049901e+04</td>\n",
              "      <td>1.827968e+04</td>\n",
              "      <td>3.528688e+00</td>\n",
              "      <td>1.192050e+09</td>\n",
              "    </tr>\n",
              "    <tr>\n",
              "      <th>std</th>\n",
              "      <td>3.497887e+04</td>\n",
              "      <td>3.485619e+04</td>\n",
              "      <td>1.070083e+00</td>\n",
              "      <td>2.161131e+08</td>\n",
              "    </tr>\n",
              "    <tr>\n",
              "      <th>min</th>\n",
              "      <td>1.000000e+00</td>\n",
              "      <td>1.000000e+00</td>\n",
              "      <td>5.000000e-01</td>\n",
              "      <td>7.896520e+08</td>\n",
              "    </tr>\n",
              "    <tr>\n",
              "      <th>25%</th>\n",
              "      <td>3.038300e+04</td>\n",
              "      <td>1.097000e+03</td>\n",
              "      <td>3.000000e+00</td>\n",
              "      <td>9.979242e+08</td>\n",
              "    </tr>\n",
              "    <tr>\n",
              "      <th>50%</th>\n",
              "      <td>6.055800e+04</td>\n",
              "      <td>2.710000e+03</td>\n",
              "      <td>3.500000e+00</td>\n",
              "      <td>1.172212e+09</td>\n",
              "    </tr>\n",
              "    <tr>\n",
              "      <th>75%</th>\n",
              "      <td>9.107100e+04</td>\n",
              "      <td>7.099000e+03</td>\n",
              "      <td>4.000000e+00</td>\n",
              "      <td>1.421270e+09</td>\n",
              "    </tr>\n",
              "    <tr>\n",
              "      <th>max</th>\n",
              "      <td>1.207260e+05</td>\n",
              "      <td>1.938820e+05</td>\n",
              "      <td>5.000000e+00</td>\n",
              "      <td>1.537945e+09</td>\n",
              "    </tr>\n",
              "  </tbody>\n",
              "</table>\n",
              "</div>"
            ],
            "text/plain": [
              "          usuarioId       filmeId          nota       momento\n",
              "count  1.176722e+07  1.176722e+07  1.176722e+07  1.176722e+07\n",
              "mean   6.049901e+04  1.827968e+04  3.528688e+00  1.192050e+09\n",
              "std    3.497887e+04  3.485619e+04  1.070083e+00  2.161131e+08\n",
              "min    1.000000e+00  1.000000e+00  5.000000e-01  7.896520e+08\n",
              "25%    3.038300e+04  1.097000e+03  3.000000e+00  9.979242e+08\n",
              "50%    6.055800e+04  2.710000e+03  3.500000e+00  1.172212e+09\n",
              "75%    9.107100e+04  7.099000e+03  4.000000e+00  1.421270e+09\n",
              "max    1.207260e+05  1.938820e+05  5.000000e+00  1.537945e+09"
            ]
          },
          "metadata": {
            "tags": []
          },
          "execution_count": 3
        }
      ]
    },
    {
      "metadata": {
        "id": "X2xLTw_haUYt",
        "colab_type": "text"
      },
      "cell_type": "markdown",
      "source": [
        "# Primeira tentativa de recomendação: heurística de total de votos"
      ]
    },
    {
      "metadata": {
        "id": "iHrT8UkhaPdv",
        "colab_type": "code",
        "colab": {
          "base_uri": "https://localhost:8080/",
          "height": 119
        },
        "outputId": "4816c426-c420-4d2b-b8e4-e23d7e2bf54b"
      },
      "cell_type": "code",
      "source": [
        "total_de_votos = notas[\"filmeId\"].value_counts()\n",
        "total_de_votos.head()"
      ],
      "execution_count": 4,
      "outputs": [
        {
          "output_type": "execute_result",
          "data": {
            "text/plain": [
              "318     41742\n",
              "356     41104\n",
              "296     39202\n",
              "593     37380\n",
              "2571    35795\n",
              "Name: filmeId, dtype: int64"
            ]
          },
          "metadata": {
            "tags": []
          },
          "execution_count": 4
        }
      ]
    },
    {
      "metadata": {
        "id": "V-DQ1r0bbknY",
        "colab_type": "code",
        "colab": {
          "base_uri": "https://localhost:8080/",
          "height": 235
        },
        "outputId": "a09bc4a5-f7ab-4b6b-f889-cae06ac689c2"
      },
      "cell_type": "code",
      "source": [
        "filmes['total_de_votos'] = total_de_votos\n",
        "filmes.head()"
      ],
      "execution_count": 5,
      "outputs": [
        {
          "output_type": "execute_result",
          "data": {
            "text/html": [
              "<div>\n",
              "<style scoped>\n",
              "    .dataframe tbody tr th:only-of-type {\n",
              "        vertical-align: middle;\n",
              "    }\n",
              "\n",
              "    .dataframe tbody tr th {\n",
              "        vertical-align: top;\n",
              "    }\n",
              "\n",
              "    .dataframe thead th {\n",
              "        text-align: right;\n",
              "    }\n",
              "</style>\n",
              "<table border=\"1\" class=\"dataframe\">\n",
              "  <thead>\n",
              "    <tr style=\"text-align: right;\">\n",
              "      <th></th>\n",
              "      <th>titulo</th>\n",
              "      <th>generos</th>\n",
              "      <th>total_de_votos</th>\n",
              "    </tr>\n",
              "    <tr>\n",
              "      <th>filmeId</th>\n",
              "      <th></th>\n",
              "      <th></th>\n",
              "      <th></th>\n",
              "    </tr>\n",
              "  </thead>\n",
              "  <tbody>\n",
              "    <tr>\n",
              "      <th>1</th>\n",
              "      <td>Toy Story (1995)</td>\n",
              "      <td>Adventure|Animation|Children|Comedy|Fantasy</td>\n",
              "      <td>29053.0</td>\n",
              "    </tr>\n",
              "    <tr>\n",
              "      <th>2</th>\n",
              "      <td>Jumanji (1995)</td>\n",
              "      <td>Adventure|Children|Fantasy</td>\n",
              "      <td>11414.0</td>\n",
              "    </tr>\n",
              "    <tr>\n",
              "      <th>3</th>\n",
              "      <td>Grumpier Old Men (1995)</td>\n",
              "      <td>Comedy|Romance</td>\n",
              "      <td>6735.0</td>\n",
              "    </tr>\n",
              "    <tr>\n",
              "      <th>4</th>\n",
              "      <td>Waiting to Exhale (1995)</td>\n",
              "      <td>Comedy|Drama|Romance</td>\n",
              "      <td>1292.0</td>\n",
              "    </tr>\n",
              "    <tr>\n",
              "      <th>5</th>\n",
              "      <td>Father of the Bride Part II (1995)</td>\n",
              "      <td>Comedy</td>\n",
              "      <td>6608.0</td>\n",
              "    </tr>\n",
              "  </tbody>\n",
              "</table>\n",
              "</div>"
            ],
            "text/plain": [
              "                                     titulo  \\\n",
              "filmeId                                       \n",
              "1                          Toy Story (1995)   \n",
              "2                            Jumanji (1995)   \n",
              "3                   Grumpier Old Men (1995)   \n",
              "4                  Waiting to Exhale (1995)   \n",
              "5        Father of the Bride Part II (1995)   \n",
              "\n",
              "                                             generos  total_de_votos  \n",
              "filmeId                                                               \n",
              "1        Adventure|Animation|Children|Comedy|Fantasy         29053.0  \n",
              "2                         Adventure|Children|Fantasy         11414.0  \n",
              "3                                     Comedy|Romance          6735.0  \n",
              "4                               Comedy|Drama|Romance          1292.0  \n",
              "5                                             Comedy          6608.0  "
            ]
          },
          "metadata": {
            "tags": []
          },
          "execution_count": 5
        }
      ]
    },
    {
      "metadata": {
        "id": "dDDE1SVobX6f",
        "colab_type": "code",
        "colab": {
          "base_uri": "https://localhost:8080/",
          "height": 390
        },
        "outputId": "519bb101-e310-4784-ef7e-c788e4bcef5b"
      },
      "cell_type": "code",
      "source": [
        "filmes.sort_values(\"total_de_votos\", ascending = False).head(10)"
      ],
      "execution_count": 6,
      "outputs": [
        {
          "output_type": "execute_result",
          "data": {
            "text/html": [
              "<div>\n",
              "<style scoped>\n",
              "    .dataframe tbody tr th:only-of-type {\n",
              "        vertical-align: middle;\n",
              "    }\n",
              "\n",
              "    .dataframe tbody tr th {\n",
              "        vertical-align: top;\n",
              "    }\n",
              "\n",
              "    .dataframe thead th {\n",
              "        text-align: right;\n",
              "    }\n",
              "</style>\n",
              "<table border=\"1\" class=\"dataframe\">\n",
              "  <thead>\n",
              "    <tr style=\"text-align: right;\">\n",
              "      <th></th>\n",
              "      <th>titulo</th>\n",
              "      <th>generos</th>\n",
              "      <th>total_de_votos</th>\n",
              "    </tr>\n",
              "    <tr>\n",
              "      <th>filmeId</th>\n",
              "      <th></th>\n",
              "      <th></th>\n",
              "      <th></th>\n",
              "    </tr>\n",
              "  </thead>\n",
              "  <tbody>\n",
              "    <tr>\n",
              "      <th>318</th>\n",
              "      <td>Shawshank Redemption, The (1994)</td>\n",
              "      <td>Crime|Drama</td>\n",
              "      <td>41742.0</td>\n",
              "    </tr>\n",
              "    <tr>\n",
              "      <th>356</th>\n",
              "      <td>Forrest Gump (1994)</td>\n",
              "      <td>Comedy|Drama|Romance|War</td>\n",
              "      <td>41104.0</td>\n",
              "    </tr>\n",
              "    <tr>\n",
              "      <th>296</th>\n",
              "      <td>Pulp Fiction (1994)</td>\n",
              "      <td>Comedy|Crime|Drama|Thriller</td>\n",
              "      <td>39202.0</td>\n",
              "    </tr>\n",
              "    <tr>\n",
              "      <th>593</th>\n",
              "      <td>Silence of the Lambs, The (1991)</td>\n",
              "      <td>Crime|Horror|Thriller</td>\n",
              "      <td>37380.0</td>\n",
              "    </tr>\n",
              "    <tr>\n",
              "      <th>2571</th>\n",
              "      <td>Matrix, The (1999)</td>\n",
              "      <td>Action|Sci-Fi|Thriller</td>\n",
              "      <td>35795.0</td>\n",
              "    </tr>\n",
              "    <tr>\n",
              "      <th>260</th>\n",
              "      <td>Star Wars: Episode IV - A New Hope (1977)</td>\n",
              "      <td>Action|Adventure|Sci-Fi</td>\n",
              "      <td>34656.0</td>\n",
              "    </tr>\n",
              "    <tr>\n",
              "      <th>480</th>\n",
              "      <td>Jurassic Park (1993)</td>\n",
              "      <td>Action|Adventure|Sci-Fi|Thriller</td>\n",
              "      <td>32473.0</td>\n",
              "    </tr>\n",
              "    <tr>\n",
              "      <th>527</th>\n",
              "      <td>Schindler's List (1993)</td>\n",
              "      <td>Drama|War</td>\n",
              "      <td>30493.0</td>\n",
              "    </tr>\n",
              "    <tr>\n",
              "      <th>110</th>\n",
              "      <td>Braveheart (1995)</td>\n",
              "      <td>Action|Drama|War</td>\n",
              "      <td>29241.0</td>\n",
              "    </tr>\n",
              "    <tr>\n",
              "      <th>1</th>\n",
              "      <td>Toy Story (1995)</td>\n",
              "      <td>Adventure|Animation|Children|Comedy|Fantasy</td>\n",
              "      <td>29053.0</td>\n",
              "    </tr>\n",
              "  </tbody>\n",
              "</table>\n",
              "</div>"
            ],
            "text/plain": [
              "                                            titulo  \\\n",
              "filmeId                                              \n",
              "318               Shawshank Redemption, The (1994)   \n",
              "356                            Forrest Gump (1994)   \n",
              "296                            Pulp Fiction (1994)   \n",
              "593               Silence of the Lambs, The (1991)   \n",
              "2571                            Matrix, The (1999)   \n",
              "260      Star Wars: Episode IV - A New Hope (1977)   \n",
              "480                           Jurassic Park (1993)   \n",
              "527                        Schindler's List (1993)   \n",
              "110                              Braveheart (1995)   \n",
              "1                                 Toy Story (1995)   \n",
              "\n",
              "                                             generos  total_de_votos  \n",
              "filmeId                                                               \n",
              "318                                      Crime|Drama         41742.0  \n",
              "356                         Comedy|Drama|Romance|War         41104.0  \n",
              "296                      Comedy|Crime|Drama|Thriller         39202.0  \n",
              "593                            Crime|Horror|Thriller         37380.0  \n",
              "2571                          Action|Sci-Fi|Thriller         35795.0  \n",
              "260                          Action|Adventure|Sci-Fi         34656.0  \n",
              "480                 Action|Adventure|Sci-Fi|Thriller         32473.0  \n",
              "527                                        Drama|War         30493.0  \n",
              "110                                 Action|Drama|War         29241.0  \n",
              "1        Adventure|Animation|Children|Comedy|Fantasy         29053.0  "
            ]
          },
          "metadata": {
            "tags": []
          },
          "execution_count": 6
        }
      ]
    },
    {
      "metadata": {
        "id": "hb0s4XR1ca6s",
        "colab_type": "code",
        "colab": {
          "base_uri": "https://localhost:8080/",
          "height": 136
        },
        "outputId": "ead4bd1b-2123-4deb-fb89-6b8c365a03a2"
      },
      "cell_type": "code",
      "source": [
        "notas_medias = notas.groupby(\"filmeId\").mean()[\"nota\"]\n",
        "notas_medias.head()"
      ],
      "execution_count": 7,
      "outputs": [
        {
          "output_type": "execute_result",
          "data": {
            "text/plain": [
              "filmeId\n",
              "1    3.886862\n",
              "2    3.246539\n",
              "3    3.185375\n",
              "4    2.878870\n",
              "5    3.080660\n",
              "Name: nota, dtype: float64"
            ]
          },
          "metadata": {
            "tags": []
          },
          "execution_count": 7
        }
      ]
    },
    {
      "metadata": {
        "id": "HrZC0YaBd79e",
        "colab_type": "code",
        "colab": {
          "base_uri": "https://localhost:8080/",
          "height": 390
        },
        "outputId": "7cc7c6d3-37e2-4a56-e1e3-ac3768a62410"
      },
      "cell_type": "code",
      "source": [
        "filmes[\"nota_media\"] = notas_medias\n",
        "filmes.sort_values(\"total_de_votos\", ascending = False).head(10)"
      ],
      "execution_count": 8,
      "outputs": [
        {
          "output_type": "execute_result",
          "data": {
            "text/html": [
              "<div>\n",
              "<style scoped>\n",
              "    .dataframe tbody tr th:only-of-type {\n",
              "        vertical-align: middle;\n",
              "    }\n",
              "\n",
              "    .dataframe tbody tr th {\n",
              "        vertical-align: top;\n",
              "    }\n",
              "\n",
              "    .dataframe thead th {\n",
              "        text-align: right;\n",
              "    }\n",
              "</style>\n",
              "<table border=\"1\" class=\"dataframe\">\n",
              "  <thead>\n",
              "    <tr style=\"text-align: right;\">\n",
              "      <th></th>\n",
              "      <th>titulo</th>\n",
              "      <th>generos</th>\n",
              "      <th>total_de_votos</th>\n",
              "      <th>nota_media</th>\n",
              "    </tr>\n",
              "    <tr>\n",
              "      <th>filmeId</th>\n",
              "      <th></th>\n",
              "      <th></th>\n",
              "      <th></th>\n",
              "      <th></th>\n",
              "    </tr>\n",
              "  </thead>\n",
              "  <tbody>\n",
              "    <tr>\n",
              "      <th>318</th>\n",
              "      <td>Shawshank Redemption, The (1994)</td>\n",
              "      <td>Crime|Drama</td>\n",
              "      <td>41742.0</td>\n",
              "      <td>4.422871</td>\n",
              "    </tr>\n",
              "    <tr>\n",
              "      <th>356</th>\n",
              "      <td>Forrest Gump (1994)</td>\n",
              "      <td>Comedy|Drama|Romance|War</td>\n",
              "      <td>41104.0</td>\n",
              "      <td>4.058255</td>\n",
              "    </tr>\n",
              "    <tr>\n",
              "      <th>296</th>\n",
              "      <td>Pulp Fiction (1994)</td>\n",
              "      <td>Comedy|Crime|Drama|Thriller</td>\n",
              "      <td>39202.0</td>\n",
              "      <td>4.179697</td>\n",
              "    </tr>\n",
              "    <tr>\n",
              "      <th>593</th>\n",
              "      <td>Silence of the Lambs, The (1991)</td>\n",
              "      <td>Crime|Horror|Thriller</td>\n",
              "      <td>37380.0</td>\n",
              "      <td>4.152287</td>\n",
              "    </tr>\n",
              "    <tr>\n",
              "      <th>2571</th>\n",
              "      <td>Matrix, The (1999)</td>\n",
              "      <td>Action|Sci-Fi|Thriller</td>\n",
              "      <td>35795.0</td>\n",
              "      <td>4.146599</td>\n",
              "    </tr>\n",
              "    <tr>\n",
              "      <th>260</th>\n",
              "      <td>Star Wars: Episode IV - A New Hope (1977)</td>\n",
              "      <td>Action|Adventure|Sci-Fi</td>\n",
              "      <td>34656.0</td>\n",
              "      <td>4.123572</td>\n",
              "    </tr>\n",
              "    <tr>\n",
              "      <th>480</th>\n",
              "      <td>Jurassic Park (1993)</td>\n",
              "      <td>Action|Adventure|Sci-Fi|Thriller</td>\n",
              "      <td>32473.0</td>\n",
              "      <td>3.665353</td>\n",
              "    </tr>\n",
              "    <tr>\n",
              "      <th>527</th>\n",
              "      <td>Schindler's List (1993)</td>\n",
              "      <td>Drama|War</td>\n",
              "      <td>30493.0</td>\n",
              "      <td>4.258076</td>\n",
              "    </tr>\n",
              "    <tr>\n",
              "      <th>110</th>\n",
              "      <td>Braveheart (1995)</td>\n",
              "      <td>Action|Drama|War</td>\n",
              "      <td>29241.0</td>\n",
              "      <td>4.007541</td>\n",
              "    </tr>\n",
              "    <tr>\n",
              "      <th>1</th>\n",
              "      <td>Toy Story (1995)</td>\n",
              "      <td>Adventure|Animation|Children|Comedy|Fantasy</td>\n",
              "      <td>29053.0</td>\n",
              "      <td>3.886862</td>\n",
              "    </tr>\n",
              "  </tbody>\n",
              "</table>\n",
              "</div>"
            ],
            "text/plain": [
              "                                            titulo  \\\n",
              "filmeId                                              \n",
              "318               Shawshank Redemption, The (1994)   \n",
              "356                            Forrest Gump (1994)   \n",
              "296                            Pulp Fiction (1994)   \n",
              "593               Silence of the Lambs, The (1991)   \n",
              "2571                            Matrix, The (1999)   \n",
              "260      Star Wars: Episode IV - A New Hope (1977)   \n",
              "480                           Jurassic Park (1993)   \n",
              "527                        Schindler's List (1993)   \n",
              "110                              Braveheart (1995)   \n",
              "1                                 Toy Story (1995)   \n",
              "\n",
              "                                             generos  total_de_votos  \\\n",
              "filmeId                                                                \n",
              "318                                      Crime|Drama         41742.0   \n",
              "356                         Comedy|Drama|Romance|War         41104.0   \n",
              "296                      Comedy|Crime|Drama|Thriller         39202.0   \n",
              "593                            Crime|Horror|Thriller         37380.0   \n",
              "2571                          Action|Sci-Fi|Thriller         35795.0   \n",
              "260                          Action|Adventure|Sci-Fi         34656.0   \n",
              "480                 Action|Adventure|Sci-Fi|Thriller         32473.0   \n",
              "527                                        Drama|War         30493.0   \n",
              "110                                 Action|Drama|War         29241.0   \n",
              "1        Adventure|Animation|Children|Comedy|Fantasy         29053.0   \n",
              "\n",
              "         nota_media  \n",
              "filmeId              \n",
              "318        4.422871  \n",
              "356        4.058255  \n",
              "296        4.179697  \n",
              "593        4.152287  \n",
              "2571       4.146599  \n",
              "260        4.123572  \n",
              "480        3.665353  \n",
              "527        4.258076  \n",
              "110        4.007541  \n",
              "1          3.886862  "
            ]
          },
          "metadata": {
            "tags": []
          },
          "execution_count": 8
        }
      ]
    },
    {
      "metadata": {
        "id": "HE8Bfat0erQo",
        "colab_type": "text"
      },
      "cell_type": "markdown",
      "source": [
        "# Uma segunda heurística: nota média e filtrando votos"
      ]
    },
    {
      "metadata": {
        "id": "5gC0d4mleRCc",
        "colab_type": "code",
        "colab": {
          "base_uri": "https://localhost:8080/",
          "height": 390
        },
        "outputId": "03360555-1b84-4bc6-8095-947dd3062446"
      },
      "cell_type": "code",
      "source": [
        "filmes.sort_values(\"nota_media\", ascending = False).head(10)"
      ],
      "execution_count": 9,
      "outputs": [
        {
          "output_type": "execute_result",
          "data": {
            "text/html": [
              "<div>\n",
              "<style scoped>\n",
              "    .dataframe tbody tr th:only-of-type {\n",
              "        vertical-align: middle;\n",
              "    }\n",
              "\n",
              "    .dataframe tbody tr th {\n",
              "        vertical-align: top;\n",
              "    }\n",
              "\n",
              "    .dataframe thead th {\n",
              "        text-align: right;\n",
              "    }\n",
              "</style>\n",
              "<table border=\"1\" class=\"dataframe\">\n",
              "  <thead>\n",
              "    <tr style=\"text-align: right;\">\n",
              "      <th></th>\n",
              "      <th>titulo</th>\n",
              "      <th>generos</th>\n",
              "      <th>total_de_votos</th>\n",
              "      <th>nota_media</th>\n",
              "    </tr>\n",
              "    <tr>\n",
              "      <th>filmeId</th>\n",
              "      <th></th>\n",
              "      <th></th>\n",
              "      <th></th>\n",
              "      <th></th>\n",
              "    </tr>\n",
              "  </thead>\n",
              "  <tbody>\n",
              "    <tr>\n",
              "      <th>166812</th>\n",
              "      <td>Seeing Red: Stories of American Communists (1983)</td>\n",
              "      <td>(no genres listed)</td>\n",
              "      <td>1.0</td>\n",
              "      <td>5.0</td>\n",
              "    </tr>\n",
              "    <tr>\n",
              "      <th>179543</th>\n",
              "      <td>The Art of Us (2017)</td>\n",
              "      <td>Comedy|Drama|Romance</td>\n",
              "      <td>1.0</td>\n",
              "      <td>5.0</td>\n",
              "    </tr>\n",
              "    <tr>\n",
              "      <th>179559</th>\n",
              "      <td>The Memory Book (2014)</td>\n",
              "      <td>Drama|Romance</td>\n",
              "      <td>1.0</td>\n",
              "      <td>5.0</td>\n",
              "    </tr>\n",
              "    <tr>\n",
              "      <th>179569</th>\n",
              "      <td>Like Cats &amp; Dogs (2017)</td>\n",
              "      <td>Comedy|Romance</td>\n",
              "      <td>1.0</td>\n",
              "      <td>5.0</td>\n",
              "    </tr>\n",
              "    <tr>\n",
              "      <th>165295</th>\n",
              "      <td>Pumpkin Pie Wars (2016)</td>\n",
              "      <td>Romance</td>\n",
              "      <td>2.0</td>\n",
              "      <td>5.0</td>\n",
              "    </tr>\n",
              "    <tr>\n",
              "      <th>157601</th>\n",
              "      <td>Kadhal Kottai (1996)</td>\n",
              "      <td>Romance</td>\n",
              "      <td>1.0</td>\n",
              "      <td>5.0</td>\n",
              "    </tr>\n",
              "    <tr>\n",
              "      <th>116157</th>\n",
              "      <td>Electronic Labyrinth THX 1138 4EB (1967)</td>\n",
              "      <td>Sci-Fi</td>\n",
              "      <td>2.0</td>\n",
              "      <td>5.0</td>\n",
              "    </tr>\n",
              "    <tr>\n",
              "      <th>134633</th>\n",
              "      <td>Tony 10 (2012)</td>\n",
              "      <td>Children</td>\n",
              "      <td>1.0</td>\n",
              "      <td>5.0</td>\n",
              "    </tr>\n",
              "    <tr>\n",
              "      <th>165305</th>\n",
              "      <td>Love on a Limb (2016)</td>\n",
              "      <td>Romance</td>\n",
              "      <td>1.0</td>\n",
              "      <td>5.0</td>\n",
              "    </tr>\n",
              "    <tr>\n",
              "      <th>165307</th>\n",
              "      <td>Death Al Dente: A Gourmet Detective Mystery (2...</td>\n",
              "      <td>Mystery</td>\n",
              "      <td>1.0</td>\n",
              "      <td>5.0</td>\n",
              "    </tr>\n",
              "  </tbody>\n",
              "</table>\n",
              "</div>"
            ],
            "text/plain": [
              "                                                    titulo  \\\n",
              "filmeId                                                      \n",
              "166812   Seeing Red: Stories of American Communists (1983)   \n",
              "179543                                The Art of Us (2017)   \n",
              "179559                              The Memory Book (2014)   \n",
              "179569                             Like Cats & Dogs (2017)   \n",
              "165295                             Pumpkin Pie Wars (2016)   \n",
              "157601                                Kadhal Kottai (1996)   \n",
              "116157            Electronic Labyrinth THX 1138 4EB (1967)   \n",
              "134633                                      Tony 10 (2012)   \n",
              "165305                               Love on a Limb (2016)   \n",
              "165307   Death Al Dente: A Gourmet Detective Mystery (2...   \n",
              "\n",
              "                      generos  total_de_votos  nota_media  \n",
              "filmeId                                                    \n",
              "166812     (no genres listed)             1.0         5.0  \n",
              "179543   Comedy|Drama|Romance             1.0         5.0  \n",
              "179559          Drama|Romance             1.0         5.0  \n",
              "179569         Comedy|Romance             1.0         5.0  \n",
              "165295                Romance             2.0         5.0  \n",
              "157601                Romance             1.0         5.0  \n",
              "116157                 Sci-Fi             2.0         5.0  \n",
              "134633               Children             1.0         5.0  \n",
              "165305                Romance             1.0         5.0  \n",
              "165307                Mystery             1.0         5.0  "
            ]
          },
          "metadata": {
            "tags": []
          },
          "execution_count": 9
        }
      ]
    },
    {
      "metadata": {
        "id": "q_pi0S5fe027",
        "colab_type": "code",
        "colab": {
          "base_uri": "https://localhost:8080/",
          "height": 390
        },
        "outputId": "55e88445-b326-4ac1-bab7-a7c29ede3c88"
      },
      "cell_type": "code",
      "source": [
        "filmes.query(\"total_de_votos >= 10\").sort_values(\"nota_media\", ascending = False).head(10)"
      ],
      "execution_count": 10,
      "outputs": [
        {
          "output_type": "execute_result",
          "data": {
            "text/html": [
              "<div>\n",
              "<style scoped>\n",
              "    .dataframe tbody tr th:only-of-type {\n",
              "        vertical-align: middle;\n",
              "    }\n",
              "\n",
              "    .dataframe tbody tr th {\n",
              "        vertical-align: top;\n",
              "    }\n",
              "\n",
              "    .dataframe thead th {\n",
              "        text-align: right;\n",
              "    }\n",
              "</style>\n",
              "<table border=\"1\" class=\"dataframe\">\n",
              "  <thead>\n",
              "    <tr style=\"text-align: right;\">\n",
              "      <th></th>\n",
              "      <th>titulo</th>\n",
              "      <th>generos</th>\n",
              "      <th>total_de_votos</th>\n",
              "      <th>nota_media</th>\n",
              "    </tr>\n",
              "    <tr>\n",
              "      <th>filmeId</th>\n",
              "      <th></th>\n",
              "      <th></th>\n",
              "      <th></th>\n",
              "      <th></th>\n",
              "    </tr>\n",
              "  </thead>\n",
              "  <tbody>\n",
              "    <tr>\n",
              "      <th>182723</th>\n",
              "      <td>Cosmos: A Spacetime Odissey</td>\n",
              "      <td>(no genres listed)</td>\n",
              "      <td>14.0</td>\n",
              "      <td>4.785714</td>\n",
              "    </tr>\n",
              "    <tr>\n",
              "      <th>171011</th>\n",
              "      <td>Planet Earth II (2016)</td>\n",
              "      <td>Documentary</td>\n",
              "      <td>376.0</td>\n",
              "      <td>4.498670</td>\n",
              "    </tr>\n",
              "    <tr>\n",
              "      <th>159817</th>\n",
              "      <td>Planet Earth (2006)</td>\n",
              "      <td>Documentary</td>\n",
              "      <td>572.0</td>\n",
              "      <td>4.472028</td>\n",
              "    </tr>\n",
              "    <tr>\n",
              "      <th>106503</th>\n",
              "      <td>Enemies of Reason, The (2007)</td>\n",
              "      <td>Documentary</td>\n",
              "      <td>11.0</td>\n",
              "      <td>4.454545</td>\n",
              "    </tr>\n",
              "    <tr>\n",
              "      <th>191999</th>\n",
              "      <td>The Reichenbach Fall (2012)</td>\n",
              "      <td>Crime|Drama|Mystery</td>\n",
              "      <td>18.0</td>\n",
              "      <td>4.444444</td>\n",
              "    </tr>\n",
              "    <tr>\n",
              "      <th>318</th>\n",
              "      <td>Shawshank Redemption, The (1994)</td>\n",
              "      <td>Crime|Drama</td>\n",
              "      <td>41742.0</td>\n",
              "      <td>4.422871</td>\n",
              "    </tr>\n",
              "    <tr>\n",
              "      <th>171495</th>\n",
              "      <td>Cosmos</td>\n",
              "      <td>(no genres listed)</td>\n",
              "      <td>67.0</td>\n",
              "      <td>4.402985</td>\n",
              "    </tr>\n",
              "    <tr>\n",
              "      <th>5194</th>\n",
              "      <td>Who's Singin' Over There? (a.k.a. Who Sings Ov...</td>\n",
              "      <td>Comedy</td>\n",
              "      <td>15.0</td>\n",
              "      <td>4.400000</td>\n",
              "    </tr>\n",
              "    <tr>\n",
              "      <th>174053</th>\n",
              "      <td>Black Mirror: White Christmas (2014)</td>\n",
              "      <td>Drama|Horror|Mystery|Sci-Fi|Thriller</td>\n",
              "      <td>431.0</td>\n",
              "      <td>4.378190</td>\n",
              "    </tr>\n",
              "    <tr>\n",
              "      <th>154474</th>\n",
              "      <td>Palmeras en la nieve (2015)</td>\n",
              "      <td>Romance</td>\n",
              "      <td>12.0</td>\n",
              "      <td>4.375000</td>\n",
              "    </tr>\n",
              "  </tbody>\n",
              "</table>\n",
              "</div>"
            ],
            "text/plain": [
              "                                                    titulo  \\\n",
              "filmeId                                                      \n",
              "182723                         Cosmos: A Spacetime Odissey   \n",
              "171011                              Planet Earth II (2016)   \n",
              "159817                                 Planet Earth (2006)   \n",
              "106503                       Enemies of Reason, The (2007)   \n",
              "191999                         The Reichenbach Fall (2012)   \n",
              "318                       Shawshank Redemption, The (1994)   \n",
              "171495                                              Cosmos   \n",
              "5194     Who's Singin' Over There? (a.k.a. Who Sings Ov...   \n",
              "174053                Black Mirror: White Christmas (2014)   \n",
              "154474                         Palmeras en la nieve (2015)   \n",
              "\n",
              "                                      generos  total_de_votos  nota_media  \n",
              "filmeId                                                                    \n",
              "182723                     (no genres listed)            14.0    4.785714  \n",
              "171011                            Documentary           376.0    4.498670  \n",
              "159817                            Documentary           572.0    4.472028  \n",
              "106503                            Documentary            11.0    4.454545  \n",
              "191999                    Crime|Drama|Mystery            18.0    4.444444  \n",
              "318                               Crime|Drama         41742.0    4.422871  \n",
              "171495                     (no genres listed)            67.0    4.402985  \n",
              "5194                                   Comedy            15.0    4.400000  \n",
              "174053   Drama|Horror|Mystery|Sci-Fi|Thriller           431.0    4.378190  \n",
              "154474                                Romance            12.0    4.375000  "
            ]
          },
          "metadata": {
            "tags": []
          },
          "execution_count": 10
        }
      ]
    },
    {
      "metadata": {
        "id": "xyqPlckAfZSw",
        "colab_type": "code",
        "colab": {
          "base_uri": "https://localhost:8080/",
          "height": 373
        },
        "outputId": "98e68f7e-152e-4933-9ad3-42dcb0f1c5cc"
      },
      "cell_type": "code",
      "source": [
        "filmes_com_mais_de_50_votos = filmes.query(\"total_de_votos >= 50\")\n",
        "filmes_com_mais_de_50_votos.sort_values(\"nota_media\", ascending = False).head(10)\n"
      ],
      "execution_count": 11,
      "outputs": [
        {
          "output_type": "execute_result",
          "data": {
            "text/html": [
              "<div>\n",
              "<style scoped>\n",
              "    .dataframe tbody tr th:only-of-type {\n",
              "        vertical-align: middle;\n",
              "    }\n",
              "\n",
              "    .dataframe tbody tr th {\n",
              "        vertical-align: top;\n",
              "    }\n",
              "\n",
              "    .dataframe thead th {\n",
              "        text-align: right;\n",
              "    }\n",
              "</style>\n",
              "<table border=\"1\" class=\"dataframe\">\n",
              "  <thead>\n",
              "    <tr style=\"text-align: right;\">\n",
              "      <th></th>\n",
              "      <th>titulo</th>\n",
              "      <th>generos</th>\n",
              "      <th>total_de_votos</th>\n",
              "      <th>nota_media</th>\n",
              "    </tr>\n",
              "    <tr>\n",
              "      <th>filmeId</th>\n",
              "      <th></th>\n",
              "      <th></th>\n",
              "      <th></th>\n",
              "      <th></th>\n",
              "    </tr>\n",
              "  </thead>\n",
              "  <tbody>\n",
              "    <tr>\n",
              "      <th>171011</th>\n",
              "      <td>Planet Earth II (2016)</td>\n",
              "      <td>Documentary</td>\n",
              "      <td>376.0</td>\n",
              "      <td>4.498670</td>\n",
              "    </tr>\n",
              "    <tr>\n",
              "      <th>159817</th>\n",
              "      <td>Planet Earth (2006)</td>\n",
              "      <td>Documentary</td>\n",
              "      <td>572.0</td>\n",
              "      <td>4.472028</td>\n",
              "    </tr>\n",
              "    <tr>\n",
              "      <th>318</th>\n",
              "      <td>Shawshank Redemption, The (1994)</td>\n",
              "      <td>Crime|Drama</td>\n",
              "      <td>41742.0</td>\n",
              "      <td>4.422871</td>\n",
              "    </tr>\n",
              "    <tr>\n",
              "      <th>171495</th>\n",
              "      <td>Cosmos</td>\n",
              "      <td>(no genres listed)</td>\n",
              "      <td>67.0</td>\n",
              "      <td>4.402985</td>\n",
              "    </tr>\n",
              "    <tr>\n",
              "      <th>174053</th>\n",
              "      <td>Black Mirror: White Christmas (2014)</td>\n",
              "      <td>Drama|Horror|Mystery|Sci-Fi|Thriller</td>\n",
              "      <td>431.0</td>\n",
              "      <td>4.378190</td>\n",
              "    </tr>\n",
              "    <tr>\n",
              "      <th>170705</th>\n",
              "      <td>Band of Brothers (2001)</td>\n",
              "      <td>Action|Drama|War</td>\n",
              "      <td>411.0</td>\n",
              "      <td>4.356448</td>\n",
              "    </tr>\n",
              "    <tr>\n",
              "      <th>172591</th>\n",
              "      <td>The Godfather Trilogy: 1972-1990 (1992)</td>\n",
              "      <td>(no genres listed)</td>\n",
              "      <td>186.0</td>\n",
              "      <td>4.346774</td>\n",
              "    </tr>\n",
              "    <tr>\n",
              "      <th>858</th>\n",
              "      <td>Godfather, The (1972)</td>\n",
              "      <td>Crime|Drama</td>\n",
              "      <td>25983.0</td>\n",
              "      <td>4.335970</td>\n",
              "    </tr>\n",
              "    <tr>\n",
              "      <th>142115</th>\n",
              "      <td>The Blue Planet (2001)</td>\n",
              "      <td>Documentary</td>\n",
              "      <td>162.0</td>\n",
              "      <td>4.290123</td>\n",
              "    </tr>\n",
              "    <tr>\n",
              "      <th>50</th>\n",
              "      <td>Usual Suspects, The (1995)</td>\n",
              "      <td>Crime|Mystery|Thriller</td>\n",
              "      <td>26415.0</td>\n",
              "      <td>4.288567</td>\n",
              "    </tr>\n",
              "  </tbody>\n",
              "</table>\n",
              "</div>"
            ],
            "text/plain": [
              "                                          titulo  \\\n",
              "filmeId                                            \n",
              "171011                    Planet Earth II (2016)   \n",
              "159817                       Planet Earth (2006)   \n",
              "318             Shawshank Redemption, The (1994)   \n",
              "171495                                    Cosmos   \n",
              "174053      Black Mirror: White Christmas (2014)   \n",
              "170705                   Band of Brothers (2001)   \n",
              "172591   The Godfather Trilogy: 1972-1990 (1992)   \n",
              "858                        Godfather, The (1972)   \n",
              "142115                    The Blue Planet (2001)   \n",
              "50                    Usual Suspects, The (1995)   \n",
              "\n",
              "                                      generos  total_de_votos  nota_media  \n",
              "filmeId                                                                    \n",
              "171011                            Documentary           376.0    4.498670  \n",
              "159817                            Documentary           572.0    4.472028  \n",
              "318                               Crime|Drama         41742.0    4.422871  \n",
              "171495                     (no genres listed)            67.0    4.402985  \n",
              "174053   Drama|Horror|Mystery|Sci-Fi|Thriller           431.0    4.378190  \n",
              "170705                       Action|Drama|War           411.0    4.356448  \n",
              "172591                     (no genres listed)           186.0    4.346774  \n",
              "858                               Crime|Drama         25983.0    4.335970  \n",
              "142115                            Documentary           162.0    4.290123  \n",
              "50                     Crime|Mystery|Thriller         26415.0    4.288567  "
            ]
          },
          "metadata": {
            "tags": []
          },
          "execution_count": 11
        }
      ]
    },
    {
      "metadata": {
        "id": "E-q95An3fmNT",
        "colab_type": "code",
        "colab": {
          "base_uri": "https://localhost:8080/",
          "height": 284
        },
        "outputId": "5c688d21-276b-4cb6-e583-5689d5fc3160"
      },
      "cell_type": "code",
      "source": [
        "eu_assisti = [1, 21, 19, 10, 11, 7, 2]\n",
        "filmes.loc[eu_assisti]"
      ],
      "execution_count": 12,
      "outputs": [
        {
          "output_type": "execute_result",
          "data": {
            "text/html": [
              "<div>\n",
              "<style scoped>\n",
              "    .dataframe tbody tr th:only-of-type {\n",
              "        vertical-align: middle;\n",
              "    }\n",
              "\n",
              "    .dataframe tbody tr th {\n",
              "        vertical-align: top;\n",
              "    }\n",
              "\n",
              "    .dataframe thead th {\n",
              "        text-align: right;\n",
              "    }\n",
              "</style>\n",
              "<table border=\"1\" class=\"dataframe\">\n",
              "  <thead>\n",
              "    <tr style=\"text-align: right;\">\n",
              "      <th></th>\n",
              "      <th>titulo</th>\n",
              "      <th>generos</th>\n",
              "      <th>total_de_votos</th>\n",
              "      <th>nota_media</th>\n",
              "    </tr>\n",
              "    <tr>\n",
              "      <th>filmeId</th>\n",
              "      <th></th>\n",
              "      <th></th>\n",
              "      <th></th>\n",
              "      <th></th>\n",
              "    </tr>\n",
              "  </thead>\n",
              "  <tbody>\n",
              "    <tr>\n",
              "      <th>1</th>\n",
              "      <td>Toy Story (1995)</td>\n",
              "      <td>Adventure|Animation|Children|Comedy|Fantasy</td>\n",
              "      <td>29053.0</td>\n",
              "      <td>3.886862</td>\n",
              "    </tr>\n",
              "    <tr>\n",
              "      <th>21</th>\n",
              "      <td>Get Shorty (1995)</td>\n",
              "      <td>Comedy|Crime|Thriller</td>\n",
              "      <td>10977.0</td>\n",
              "      <td>3.564407</td>\n",
              "    </tr>\n",
              "    <tr>\n",
              "      <th>19</th>\n",
              "      <td>Ace Ventura: When Nature Calls (1995)</td>\n",
              "      <td>Comedy</td>\n",
              "      <td>10605.0</td>\n",
              "      <td>2.644696</td>\n",
              "    </tr>\n",
              "    <tr>\n",
              "      <th>10</th>\n",
              "      <td>GoldenEye (1995)</td>\n",
              "      <td>Action|Adventure|Thriller</td>\n",
              "      <td>14067.0</td>\n",
              "      <td>3.427348</td>\n",
              "    </tr>\n",
              "    <tr>\n",
              "      <th>11</th>\n",
              "      <td>American President, The (1995)</td>\n",
              "      <td>Comedy|Drama|Romance</td>\n",
              "      <td>8285.0</td>\n",
              "      <td>3.661316</td>\n",
              "    </tr>\n",
              "    <tr>\n",
              "      <th>7</th>\n",
              "      <td>Sabrina (1995)</td>\n",
              "      <td>Comedy|Romance</td>\n",
              "      <td>6510.0</td>\n",
              "      <td>3.371582</td>\n",
              "    </tr>\n",
              "    <tr>\n",
              "      <th>2</th>\n",
              "      <td>Jumanji (1995)</td>\n",
              "      <td>Adventure|Children|Fantasy</td>\n",
              "      <td>11414.0</td>\n",
              "      <td>3.246539</td>\n",
              "    </tr>\n",
              "  </tbody>\n",
              "</table>\n",
              "</div>"
            ],
            "text/plain": [
              "                                        titulo  \\\n",
              "filmeId                                          \n",
              "1                             Toy Story (1995)   \n",
              "21                           Get Shorty (1995)   \n",
              "19       Ace Ventura: When Nature Calls (1995)   \n",
              "10                            GoldenEye (1995)   \n",
              "11              American President, The (1995)   \n",
              "7                               Sabrina (1995)   \n",
              "2                               Jumanji (1995)   \n",
              "\n",
              "                                             generos  total_de_votos  \\\n",
              "filmeId                                                                \n",
              "1        Adventure|Animation|Children|Comedy|Fantasy         29053.0   \n",
              "21                             Comedy|Crime|Thriller         10977.0   \n",
              "19                                            Comedy         10605.0   \n",
              "10                         Action|Adventure|Thriller         14067.0   \n",
              "11                              Comedy|Drama|Romance          8285.0   \n",
              "7                                     Comedy|Romance          6510.0   \n",
              "2                         Adventure|Children|Fantasy         11414.0   \n",
              "\n",
              "         nota_media  \n",
              "filmeId              \n",
              "1          3.886862  \n",
              "21         3.564407  \n",
              "19         2.644696  \n",
              "10         3.427348  \n",
              "11         3.661316  \n",
              "7          3.371582  \n",
              "2          3.246539  "
            ]
          },
          "metadata": {
            "tags": []
          },
          "execution_count": 12
        }
      ]
    },
    {
      "metadata": {
        "id": "bA88PsA3hk9s",
        "colab_type": "code",
        "colab": {
          "base_uri": "https://localhost:8080/",
          "height": 373
        },
        "outputId": "38ab4c54-8c88-487a-eea1-1bbc9a3d2d3f"
      },
      "cell_type": "code",
      "source": [
        "aventura_infantil_e_fantasia = filmes_com_mais_de_50_votos.query(\"generos=='Adventure|Children|Fantasy'\")\n",
        "aventura_infantil_e_fantasia.drop(eu_assisti, errors='ignore').sort_values(\"nota_media\", ascending = False).head(10)"
      ],
      "execution_count": 13,
      "outputs": [
        {
          "output_type": "execute_result",
          "data": {
            "text/html": [
              "<div>\n",
              "<style scoped>\n",
              "    .dataframe tbody tr th:only-of-type {\n",
              "        vertical-align: middle;\n",
              "    }\n",
              "\n",
              "    .dataframe tbody tr th {\n",
              "        vertical-align: top;\n",
              "    }\n",
              "\n",
              "    .dataframe thead th {\n",
              "        text-align: right;\n",
              "    }\n",
              "</style>\n",
              "<table border=\"1\" class=\"dataframe\">\n",
              "  <thead>\n",
              "    <tr style=\"text-align: right;\">\n",
              "      <th></th>\n",
              "      <th>titulo</th>\n",
              "      <th>generos</th>\n",
              "      <th>total_de_votos</th>\n",
              "      <th>nota_media</th>\n",
              "    </tr>\n",
              "    <tr>\n",
              "      <th>filmeId</th>\n",
              "      <th></th>\n",
              "      <th></th>\n",
              "      <th></th>\n",
              "      <th></th>\n",
              "    </tr>\n",
              "  </thead>\n",
              "  <tbody>\n",
              "    <tr>\n",
              "      <th>4896</th>\n",
              "      <td>Harry Potter and the Sorcerer's Stone (a.k.a. ...</td>\n",
              "      <td>Adventure|Children|Fantasy</td>\n",
              "      <td>11552.0</td>\n",
              "      <td>3.673303</td>\n",
              "    </tr>\n",
              "    <tr>\n",
              "      <th>2161</th>\n",
              "      <td>NeverEnding Story, The (1984)</td>\n",
              "      <td>Adventure|Children|Fantasy</td>\n",
              "      <td>5310.0</td>\n",
              "      <td>3.488889</td>\n",
              "    </tr>\n",
              "    <tr>\n",
              "      <th>50601</th>\n",
              "      <td>Bridge to Terabithia (2007)</td>\n",
              "      <td>Adventure|Children|Fantasy</td>\n",
              "      <td>842.0</td>\n",
              "      <td>3.452494</td>\n",
              "    </tr>\n",
              "    <tr>\n",
              "      <th>41566</th>\n",
              "      <td>Chronicles of Narnia: The Lion, the Witch and ...</td>\n",
              "      <td>Adventure|Children|Fantasy</td>\n",
              "      <td>5412.0</td>\n",
              "      <td>3.421101</td>\n",
              "    </tr>\n",
              "    <tr>\n",
              "      <th>82169</th>\n",
              "      <td>Chronicles of Narnia: The Voyage of the Dawn T...</td>\n",
              "      <td>Adventure|Children|Fantasy</td>\n",
              "      <td>887.0</td>\n",
              "      <td>3.302142</td>\n",
              "    </tr>\n",
              "    <tr>\n",
              "      <th>2043</th>\n",
              "      <td>Darby O'Gill and the Little People (1959)</td>\n",
              "      <td>Adventure|Children|Fantasy</td>\n",
              "      <td>501.0</td>\n",
              "      <td>3.243513</td>\n",
              "    </tr>\n",
              "    <tr>\n",
              "      <th>59501</th>\n",
              "      <td>Chronicles of Narnia: Prince Caspian, The (2008)</td>\n",
              "      <td>Adventure|Children|Fantasy</td>\n",
              "      <td>1435.0</td>\n",
              "      <td>3.186760</td>\n",
              "    </tr>\n",
              "    <tr>\n",
              "      <th>160573</th>\n",
              "      <td>Pete's Dragon (2016)</td>\n",
              "      <td>Adventure|Children|Fantasy</td>\n",
              "      <td>116.0</td>\n",
              "      <td>3.146552</td>\n",
              "    </tr>\n",
              "    <tr>\n",
              "      <th>1009</th>\n",
              "      <td>Escape to Witch Mountain (1975)</td>\n",
              "      <td>Adventure|Children|Fantasy</td>\n",
              "      <td>1153.0</td>\n",
              "      <td>3.139636</td>\n",
              "    </tr>\n",
              "    <tr>\n",
              "      <th>56171</th>\n",
              "      <td>Golden Compass, The (2007)</td>\n",
              "      <td>Adventure|Children|Fantasy</td>\n",
              "      <td>1349.0</td>\n",
              "      <td>3.136027</td>\n",
              "    </tr>\n",
              "  </tbody>\n",
              "</table>\n",
              "</div>"
            ],
            "text/plain": [
              "                                                    titulo  \\\n",
              "filmeId                                                      \n",
              "4896     Harry Potter and the Sorcerer's Stone (a.k.a. ...   \n",
              "2161                         NeverEnding Story, The (1984)   \n",
              "50601                          Bridge to Terabithia (2007)   \n",
              "41566    Chronicles of Narnia: The Lion, the Witch and ...   \n",
              "82169    Chronicles of Narnia: The Voyage of the Dawn T...   \n",
              "2043             Darby O'Gill and the Little People (1959)   \n",
              "59501     Chronicles of Narnia: Prince Caspian, The (2008)   \n",
              "160573                                Pete's Dragon (2016)   \n",
              "1009                       Escape to Witch Mountain (1975)   \n",
              "56171                           Golden Compass, The (2007)   \n",
              "\n",
              "                            generos  total_de_votos  nota_media  \n",
              "filmeId                                                          \n",
              "4896     Adventure|Children|Fantasy         11552.0    3.673303  \n",
              "2161     Adventure|Children|Fantasy          5310.0    3.488889  \n",
              "50601    Adventure|Children|Fantasy           842.0    3.452494  \n",
              "41566    Adventure|Children|Fantasy          5412.0    3.421101  \n",
              "82169    Adventure|Children|Fantasy           887.0    3.302142  \n",
              "2043     Adventure|Children|Fantasy           501.0    3.243513  \n",
              "59501    Adventure|Children|Fantasy          1435.0    3.186760  \n",
              "160573   Adventure|Children|Fantasy           116.0    3.146552  \n",
              "1009     Adventure|Children|Fantasy          1153.0    3.139636  \n",
              "56171    Adventure|Children|Fantasy          1349.0    3.136027  "
            ]
          },
          "metadata": {
            "tags": []
          },
          "execution_count": 13
        }
      ]
    },
    {
      "metadata": {
        "id": "X9QOxjKHh5aD",
        "colab_type": "code",
        "colab": {}
      },
      "cell_type": "code",
      "source": [
        "# Collaborative filtering x Content based filtering"
      ],
      "execution_count": 0,
      "outputs": []
    },
    {
      "metadata": {
        "id": "YZOO7Ifp0WWU",
        "colab_type": "text"
      },
      "cell_type": "markdown",
      "source": [
        "# Procurar usuários \"similares\""
      ]
    },
    {
      "metadata": {
        "id": "HZF6Hpma0jdm",
        "colab_type": "text"
      },
      "cell_type": "markdown",
      "source": [
        "- joão deu nota 4 no filme toy story\n",
        "- maria deu nota 5 no filme toy story\n",
        "- paulo deu nota 3 no filme toy story\n",
        "- joana deu nota 3.5 no filme toy story\n",
        "\n",
        "x-y ==> distância"
      ]
    },
    {
      "metadata": {
        "id": "nwh6sFdxz1wp",
        "colab_type": "code",
        "colab": {
          "base_uri": "https://localhost:8080/",
          "height": 378
        },
        "outputId": "3bbd7d6a-fbd1-47a3-a3c6-a645994d97a0"
      },
      "cell_type": "code",
      "source": [
        "import matplotlib.pyplot as plt\n",
        "plt.plot(4, 4.5, \"go\")\n",
        "plt.plot(5, 5, \"yo\")\n",
        "plt.legend([\"João\", \"Maria\"])\n",
        "plt.title(\"Calcular a distância entre dois usuários\")\n",
        "\n",
        "plt.plot([4, 5], [4.5, 4.5], color=\"b\", linestyle=\"-\")\n",
        "plt.plot([4, 5], [4.5, 5], color=\"b\", linestyle=\"-\")\n",
        "plt.plot([5, 5], [4.5, 5], color=\"b\", linestyle=\"-\")"
      ],
      "execution_count": 23,
      "outputs": [
        {
          "output_type": "execute_result",
          "data": {
            "text/plain": [
              "[<matplotlib.lines.Line2D at 0x7f93de67dbe0>]"
            ]
          },
          "metadata": {
            "tags": []
          },
          "execution_count": 23
        },
        {
          "output_type": "display_data",
          "data": {
            "image/png": "[encoded data removed]",
            "text/plain": [
              "<matplotlib.figure.Figure at 0x7f93de73fe10>"
            ]
          },
          "metadata": {
            "tags": []
          }
        }
      ]
    },
    {
      "metadata": {
        "id": "bOMpuU2921Mw",
        "colab_type": "code",
        "colab": {
          "base_uri": "https://localhost:8080/",
          "height": 34
        },
        "outputId": "10c6987a-eed1-46b9-c87f-5072f7fda9db"
      },
      "cell_type": "code",
      "source": [
        "import numpy as np\n",
        "\n",
        "joao = np.array([4, 4.5])\n",
        "maria = np.array([5, 5])\n",
        "\n",
        "joao - maria"
      ],
      "execution_count": 26,
      "outputs": [
        {
          "output_type": "execute_result",
          "data": {
            "text/plain": [
              "array([-1. , -0.5])"
            ]
          },
          "metadata": {
            "tags": []
          },
          "execution_count": 26
        }
      ]
    },
    {
      "metadata": {
        "id": "opBd04bQ2__b",
        "colab_type": "code",
        "colab": {
          "base_uri": "https://localhost:8080/",
          "height": 34
        },
        "outputId": "8cf21c51-cc6d-44c7-bb7a-8a3c6d1b19a4"
      },
      "cell_type": "code",
      "source": [
        "from math import sqrt\n",
        "\n",
        "def pitagoras(a,b):\n",
        "  (delta_x, delta_y) = a - b\n",
        "  return sqrt(delta_x * delta_x + delta_y * delta_y)\n",
        "\n",
        "pitagoras(joao, maria)"
      ],
      "execution_count": 28,
      "outputs": [
        {
          "output_type": "execute_result",
          "data": {
            "text/plain": [
              "1.118033988749895"
            ]
          },
          "metadata": {
            "tags": []
          },
          "execution_count": 28
        }
      ]
    },
    {
      "metadata": {
        "id": "5bGAWvTU3hRA",
        "colab_type": "code",
        "colab": {
          "base_uri": "https://localhost:8080/",
          "height": 34
        },
        "outputId": "facc0853-0d3f-44b9-deb4-e09ea78ef3d8"
      },
      "cell_type": "code",
      "source": [
        "def pitagoras(a,b):\n",
        "  return np.linalg.norm(a - b)\n",
        "\n",
        "pitagoras(joao, maria)"
      ],
      "execution_count": 31,
      "outputs": [
        {
          "output_type": "execute_result",
          "data": {
            "text/plain": [
              "1.118033988749895"
            ]
          },
          "metadata": {
            "tags": []
          },
          "execution_count": 31
        }
      ]
    },
    {
      "metadata": {
        "id": "eugqrwvB3pvK",
        "colab_type": "code",
        "colab": {
          "base_uri": "https://localhost:8080/",
          "height": 379
        },
        "outputId": "70a964ef-0f84-451d-9f86-c4d1773768f9"
      },
      "cell_type": "code",
      "source": [
        "import matplotlib.pyplot as plt\n",
        "plt.plot(4, 4.5, \"go\")\n",
        "plt.plot(5, 5, \"yo\")\n",
        "plt.plot(3.5, 4.5, \"bo\")\n",
        "plt.legend([\"João\", \"Maria\", \"Joaquina\"])\n",
        "plt.title(\"Calcular a distância entre usuários\")\n"
      ],
      "execution_count": 33,
      "outputs": [
        {
          "output_type": "execute_result",
          "data": {
            "text/plain": [
              "Text(0.5,1,'Calcular a distância entre usuários')"
            ]
          },
          "metadata": {
            "tags": []
          },
          "execution_count": 33
        },
        {
          "output_type": "display_data",
          "data": {
            "image/png": "[encoded data removed]",
            "text/plain": [
              "<matplotlib.figure.Figure at 0x7f93de6a74a8>"
            ]
          },
          "metadata": {
            "tags": []
          }
        }
      ]
    },
    {
      "metadata": {
        "id": "5j2yydH84Bu7",
        "colab_type": "code",
        "colab": {
          "base_uri": "https://localhost:8080/",
          "height": 51
        },
        "outputId": "a859f243-069b-4ed6-946f-310fd3943d82"
      },
      "cell_type": "code",
      "source": [
        "joaquina = np.array([3.5, 4.5])\n",
        "\n",
        "print(pitagoras(joao, maria))\n",
        "print(pitagoras(joao, joaquina))"
      ],
      "execution_count": 36,
      "outputs": [
        {
          "output_type": "stream",
          "text": [
            "1.118033988749895\n",
            "0.5\n"
          ],
          "name": "stdout"
        }
      ]
    },
    {
      "metadata": {
        "id": "8EAva5D24KrG",
        "colab_type": "code",
        "colab": {}
      },
      "cell_type": "code",
      "source": [
        "def distancia(a,b):\n",
        "  return np.linalg.norm(a - b)\n"
      ],
      "execution_count": 0,
      "outputs": []
    },
    {
      "metadata": {
        "id": "oqbbrwNK4b4z",
        "colab_type": "code",
        "colab": {}
      },
      "cell_type": "code",
      "source": [
        ""
      ],
      "execution_count": 0,
      "outputs": []
    }
  ]
}